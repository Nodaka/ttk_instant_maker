{
 "cells": [
  {
   "cell_type": "code",
   "execution_count": 1,
   "metadata": {},
   "outputs": [],
   "source": [
    "#@ignore\n",
    "import nbtof"
   ]
  },
  {
   "cell_type": "code",
   "execution_count": 8,
   "metadata": {},
   "outputs": [],
   "source": [
    "import numpy\n",
    "import types\n",
    "import copy\n",
    "import tkinter as tk"
   ]
  },
  {
   "cell_type": "code",
   "execution_count": 3,
   "metadata": {},
   "outputs": [],
   "source": [
    "root=tk.Tk()"
   ]
  },
  {
   "cell_type": "code",
   "execution_count": 48,
   "metadata": {},
   "outputs": [],
   "source": [
    "#@ignore\n",
    "class test_class(tk.Frame):\n",
    "    def __init__(self, master=None):\n",
    "        super().__init__(master)\n",
    "        self.test_str = tk.StringVar(value='ababab')\n",
    "        self.test_int = tk.IntVar(value=1)\n",
    "        pass\n",
    "    def gagaga(self):\n",
    "        print(\"test\")\n",
    "        pass\n",
    "    def hahaha(self):\n",
    "        print(\"hahaha\")"
   ]
  },
  {
   "cell_type": "code",
   "execution_count": 5,
   "metadata": {},
   "outputs": [],
   "source": [
    "instant_globals_dict = dict(globals())"
   ]
  },
  {
   "cell_type": "code",
   "execution_count": 78,
   "metadata": {},
   "outputs": [],
   "source": [
    "class class_output:\n",
    "    def __init__(self):\n",
    "        self.func_list = []\n",
    "        self.tkvar_list = []\n",
    "        instant_class.class_name = None"
   ]
  },
  {
   "cell_type": "code",
   "execution_count": 80,
   "metadata": {},
   "outputs": [
    {
     "name": "stdout",
     "output_type": "stream",
     "text": [
      "<class 'str'>\n",
      "<class 'tkinter.Tk'>\n",
      "<class '_tkinter.tkapp'>\n",
      "<class 'str'>\n",
      "<class 'str'>\n",
      "<class 'dict'>\n",
      "<class 'list'>\n",
      "<class 'tkinter.StringVar'>\n",
      "<class 'tkinter.IntVar'>\n"
     ]
    }
   ],
   "source": [
    "class_output_list = []\n",
    "for key, value in instant_globals_dict.items():\n",
    "    if type(value) == type:\n",
    "        instant_class = class_output()\n",
    "        instant_class.class_name = key\n",
    "\n",
    "        for c_key, c_value in eval(instant_class.class_name).__dict__.items():\n",
    "            if type(eval(instant_class.class_name + \".\" + c_key)) == types.FunctionType:\n",
    "                instant_class.func_list.append(c_key)\n",
    "        \n",
    "        try:\n",
    "            instant_class.func_list.remove(\"__init__\")\n",
    "        except:\n",
    "            print(\"class: \" + instant_class.class_name + \" doesn't have __init__ !\")\n",
    "        \n",
    "        for c_key, c_value in eval(instant_class.class_name+\"()\").__dict__.items():\n",
    "            print(type(c_value))\n",
    "            if type(c_value) in [tk.StringVar, tk. IntVar, tk.DoubleVar, tk.BooleanVar]:\n",
    "                instant_class.tkvar_list.append(c_key)\n",
    "\n",
    "        "
   ]
  },
  {
   "cell_type": "code",
   "execution_count": 83,
   "metadata": {},
   "outputs": [
    {
     "name": "stdout",
     "output_type": "stream",
     "text": [
      "test_class\n",
      "['gagaga', 'hahaha']\n",
      "['test_str', 'test_int']\n"
     ]
    }
   ],
   "source": [
    "print(instant_class.class_name)\n",
    "print(instant_class.func_list)\n",
    "print(instant_class.tkvar_list)"
   ]
  },
  {
   "cell_type": "code",
   "execution_count": null,
   "metadata": {},
   "outputs": [],
   "source": []
  },
  {
   "cell_type": "code",
   "execution_count": 37,
   "metadata": {},
   "outputs": [
    {
     "data": {
      "text/plain": [
       "True"
      ]
     },
     "execution_count": 37,
     "metadata": {},
     "output_type": "execute_result"
    }
   ],
   "source": [
    "type(1)==int"
   ]
  },
  {
   "cell_type": "code",
   "execution_count": null,
   "metadata": {},
   "outputs": [
    {
     "data": {
      "text/plain": [
       "function"
      ]
     },
     "metadata": {},
     "output_type": "display_data"
    }
   ],
   "source": [
    "types.FunctionType"
   ]
  },
  {
   "cell_type": "code",
   "execution_count": 38,
   "metadata": {},
   "outputs": [
    {
     "data": {
      "text/plain": [
       "True"
      ]
     },
     "execution_count": 38,
     "metadata": {},
     "output_type": "execute_result"
    }
   ],
   "source": [
    "type(func_out_put) == type"
   ]
  },
  {
   "cell_type": "code",
   "execution_count": 20,
   "metadata": {},
   "outputs": [
    {
     "data": {
      "text/plain": [
       "True"
      ]
     },
     "execution_count": 20,
     "metadata": {},
     "output_type": "execute_result"
    }
   ],
   "source": [
    "type(test_class.gagaga) == types.FunctionType"
   ]
  },
  {
   "cell_type": "code",
   "execution_count": 21,
   "metadata": {},
   "outputs": [
    {
     "data": {
      "text/plain": [
       "False"
      ]
     },
     "execution_count": 21,
     "metadata": {},
     "output_type": "execute_result"
    }
   ],
   "source": [
    "type(test_class) == types.class"
   ]
  },
  {
   "cell_type": "code",
   "execution_count": 14,
   "metadata": {},
   "outputs": [
    {
     "data": {
      "text/plain": [
       "types.DynamicClassAttribute"
      ]
     },
     "execution_count": 14,
     "metadata": {},
     "output_type": "execute_result"
    }
   ],
   "source": [
    " (types.DynamicClassAttribute)"
   ]
  },
  {
   "cell_type": "code",
   "execution_count": 69,
   "metadata": {},
   "outputs": [
    {
     "data": {
      "text/plain": [
       "True"
      ]
     },
     "execution_count": 69,
     "metadata": {},
     "output_type": "execute_result"
    }
   ],
   "source": [
    "type(eval(\"test_class()\").__dict__['test_str']) in [tk.StringVar]"
   ]
  },
  {
   "cell_type": "code",
   "execution_count": 12,
   "metadata": {},
   "outputs": [
    {
     "data": {
      "text/plain": [
       "mappingproxy({'__module__': '__main__',\n",
       "              '__init__': <function __main__.test_class.__init__(self, master=None)>,\n",
       "              'gagaga': <function __main__.test_class.gagaga(self)>,\n",
       "              '__doc__': None})"
      ]
     },
     "execution_count": 12,
     "metadata": {},
     "output_type": "execute_result"
    }
   ],
   "source": [
    "eval(\"test_class\").__dict__"
   ]
  },
  {
   "cell_type": "code",
   "execution_count": 26,
   "metadata": {},
   "outputs": [],
   "source": [
    "sample_class.test_str.set(\"fjdsalj\")"
   ]
  },
  {
   "cell_type": "code",
   "execution_count": 27,
   "metadata": {},
   "outputs": [
    {
     "data": {
      "text/plain": [
       "'fjdsalj'"
      ]
     },
     "execution_count": 27,
     "metadata": {},
     "output_type": "execute_result"
    }
   ],
   "source": [
    "getattr(sample_class, \"test_str\").get()"
   ]
  },
  {
   "cell_type": "markdown",
   "metadata": {},
   "source": [
    "## var list getting"
   ]
  },
  {
   "cell_type": "code",
   "execution_count": 4,
   "metadata": {},
   "outputs": [],
   "source": [
    "instant_globals_dict = dict(globals())"
   ]
  },
  {
   "cell_type": "code",
   "execution_count": 5,
   "metadata": {},
   "outputs": [
    {
     "name": "stdout",
     "output_type": "stream",
     "text": [
      "test_class <class '__main__.test_class'>\n",
      "<class 'type'>\n"
     ]
    }
   ],
   "source": [
    "for key, value in instant_globals_dict.items():\n",
    "    if key == \"test_class\":\n",
    "        print(key, value)\n",
    "        print(type(value))\n",
    "    if \"instant\" in key:\n",
    "        print(key, value)\n",
    "        print(type(value))\n"
   ]
  },
  {
   "cell_type": "code",
   "execution_count": null,
   "metadata": {},
   "outputs": [
    {
     "name": "stdout",
     "output_type": "stream",
     "text": [
      "test_class <class '__main__.test_class'>\n",
      "<class 'type'>\n"
     ]
    }
   ],
   "source": [
    "for key, value in instant_globals_dict.items():\n",
    "    if key == \"test_class\":\n",
    "        print(key, value)\n",
    "        print(type(value))\n"
   ]
  },
  {
   "cell_type": "code",
   "execution_count": 10,
   "metadata": {},
   "outputs": [
    {
     "data": {
      "text/plain": [
       "__main__.test_class"
      ]
     },
     "execution_count": 10,
     "metadata": {},
     "output_type": "execute_result"
    }
   ],
   "source": [
    "eval(\"test_class\")"
   ]
  },
  {
   "cell_type": "code",
   "execution_count": 6,
   "metadata": {},
   "outputs": [],
   "source": [
    "def export_tkvar(class_name):\n",
    "    print(vars(class_name))"
   ]
  },
  {
   "cell_type": "code",
   "execution_count": 7,
   "metadata": {},
   "outputs": [
    {
     "name": "stdout",
     "output_type": "stream",
     "text": [
      "{'test_str': <tkinter.StringVar object at 0x000002626D24BE50>}\n"
     ]
    }
   ],
   "source": [
    "export_tkvar(test_class())"
   ]
  },
  {
   "cell_type": "code",
   "execution_count": 6,
   "metadata": {},
   "outputs": [
    {
     "data": {
      "text/plain": [
       "{'test_str': <tkinter.StringVar at 0x25a6ebbd150>}"
      ]
     },
     "execution_count": 6,
     "metadata": {},
     "output_type": "execute_result"
    }
   ],
   "source": [
    "vars(test_class())"
   ]
  },
  {
   "cell_type": "code",
   "execution_count": 10,
   "metadata": {},
   "outputs": [
    {
     "data": {
      "text/plain": [
       "mappingproxy({'__module__': '__main__',\n",
       "              '__init__': <function __main__.test_class.__init__(self)>,\n",
       "              'gagaga': <function __main__.test_class.gagaga(self)>,\n",
       "              '__dict__': <attribute '__dict__' of 'test_class' objects>,\n",
       "              '__weakref__': <attribute '__weakref__' of 'test_class' objects>,\n",
       "              '__doc__': None})"
      ]
     },
     "execution_count": 10,
     "metadata": {},
     "output_type": "execute_result"
    }
   ],
   "source": [
    "test_class.__dict__"
   ]
  },
  {
   "cell_type": "code",
   "execution_count": 8,
   "metadata": {},
   "outputs": [
    {
     "ename": "RuntimeError",
     "evalue": "Too early to create variable: no default root window",
     "output_type": "error",
     "traceback": [
      "\u001b[1;31m---------------------------------------------------------------------------\u001b[0m",
      "\u001b[1;31mRuntimeError\u001b[0m                              Traceback (most recent call last)",
      "Cell \u001b[1;32mIn[8], line 1\u001b[0m\n\u001b[1;32m----> 1\u001b[0m \u001b[38;5;28mtype\u001b[39m(\u001b[43mtk\u001b[49m\u001b[38;5;241;43m.\u001b[39;49m\u001b[43mStringVar\u001b[49m\u001b[43m(\u001b[49m\u001b[43m)\u001b[49m)\n",
      "File \u001b[1;32mc:\\Users\\1618s\\anaconda3\\envs\\env10\\lib\\tkinter\\__init__.py:540\u001b[0m, in \u001b[0;36mStringVar.__init__\u001b[1;34m(self, master, value, name)\u001b[0m\n\u001b[0;32m    530\u001b[0m \u001b[38;5;28;01mdef\u001b[39;00m \u001b[38;5;21m__init__\u001b[39m(\u001b[38;5;28mself\u001b[39m, master\u001b[38;5;241m=\u001b[39m\u001b[38;5;28;01mNone\u001b[39;00m, value\u001b[38;5;241m=\u001b[39m\u001b[38;5;28;01mNone\u001b[39;00m, name\u001b[38;5;241m=\u001b[39m\u001b[38;5;28;01mNone\u001b[39;00m):\n\u001b[0;32m    531\u001b[0m \u001b[38;5;250m    \u001b[39m\u001b[38;5;124;03m\"\"\"Construct a string variable.\u001b[39;00m\n\u001b[0;32m    532\u001b[0m \n\u001b[0;32m    533\u001b[0m \u001b[38;5;124;03m    MASTER can be given as master widget.\u001b[39;00m\n\u001b[1;32m   (...)\u001b[0m\n\u001b[0;32m    538\u001b[0m \u001b[38;5;124;03m    then the existing value is retained.\u001b[39;00m\n\u001b[0;32m    539\u001b[0m \u001b[38;5;124;03m    \"\"\"\u001b[39;00m\n\u001b[1;32m--> 540\u001b[0m     \u001b[43mVariable\u001b[49m\u001b[38;5;241;43m.\u001b[39;49m\u001b[38;5;21;43m__init__\u001b[39;49m\u001b[43m(\u001b[49m\u001b[38;5;28;43mself\u001b[39;49m\u001b[43m,\u001b[49m\u001b[43m \u001b[49m\u001b[43mmaster\u001b[49m\u001b[43m,\u001b[49m\u001b[43m \u001b[49m\u001b[43mvalue\u001b[49m\u001b[43m,\u001b[49m\u001b[43m \u001b[49m\u001b[43mname\u001b[49m\u001b[43m)\u001b[49m\n",
      "File \u001b[1;32mc:\\Users\\1618s\\anaconda3\\envs\\env10\\lib\\tkinter\\__init__.py:371\u001b[0m, in \u001b[0;36mVariable.__init__\u001b[1;34m(self, master, value, name)\u001b[0m\n\u001b[0;32m    369\u001b[0m \u001b[38;5;28;01mglobal\u001b[39;00m _varnum\n\u001b[0;32m    370\u001b[0m \u001b[38;5;28;01mif\u001b[39;00m master \u001b[38;5;129;01mis\u001b[39;00m \u001b[38;5;28;01mNone\u001b[39;00m:\n\u001b[1;32m--> 371\u001b[0m     master \u001b[38;5;241m=\u001b[39m \u001b[43m_get_default_root\u001b[49m\u001b[43m(\u001b[49m\u001b[38;5;124;43m'\u001b[39;49m\u001b[38;5;124;43mcreate variable\u001b[39;49m\u001b[38;5;124;43m'\u001b[39;49m\u001b[43m)\u001b[49m\n\u001b[0;32m    372\u001b[0m \u001b[38;5;28mself\u001b[39m\u001b[38;5;241m.\u001b[39m_root \u001b[38;5;241m=\u001b[39m master\u001b[38;5;241m.\u001b[39m_root()\n\u001b[0;32m    373\u001b[0m \u001b[38;5;28mself\u001b[39m\u001b[38;5;241m.\u001b[39m_tk \u001b[38;5;241m=\u001b[39m master\u001b[38;5;241m.\u001b[39mtk\n",
      "File \u001b[1;32mc:\\Users\\1618s\\anaconda3\\envs\\env10\\lib\\tkinter\\__init__.py:297\u001b[0m, in \u001b[0;36m_get_default_root\u001b[1;34m(what)\u001b[0m\n\u001b[0;32m    295\u001b[0m \u001b[38;5;28;01mif\u001b[39;00m _default_root \u001b[38;5;129;01mis\u001b[39;00m \u001b[38;5;28;01mNone\u001b[39;00m:\n\u001b[0;32m    296\u001b[0m     \u001b[38;5;28;01mif\u001b[39;00m what:\n\u001b[1;32m--> 297\u001b[0m         \u001b[38;5;28;01mraise\u001b[39;00m \u001b[38;5;167;01mRuntimeError\u001b[39;00m(\u001b[38;5;124mf\u001b[39m\u001b[38;5;124m\"\u001b[39m\u001b[38;5;124mToo early to \u001b[39m\u001b[38;5;132;01m{\u001b[39;00mwhat\u001b[38;5;132;01m}\u001b[39;00m\u001b[38;5;124m: no default root window\u001b[39m\u001b[38;5;124m\"\u001b[39m)\n\u001b[0;32m    298\u001b[0m     root \u001b[38;5;241m=\u001b[39m Tk()\n\u001b[0;32m    299\u001b[0m     \u001b[38;5;28;01massert\u001b[39;00m _default_root \u001b[38;5;129;01mis\u001b[39;00m root\n",
      "\u001b[1;31mRuntimeError\u001b[0m: Too early to create variable: no default root window"
     ]
    }
   ],
   "source": [
    "type(tk.StringVar())"
   ]
  },
  {
   "cell_type": "code",
   "execution_count": null,
   "metadata": {},
   "outputs": [],
   "source": [
    "instant_globals_list = dict(globals())"
   ]
  },
  {
   "cell_type": "code",
   "execution_count": null,
   "metadata": {},
   "outputs": [],
   "source": []
  },
  {
   "cell_type": "markdown",
   "metadata": {},
   "source": [
    "## function list getting"
   ]
  },
  {
   "cell_type": "code",
   "execution_count": 14,
   "metadata": {},
   "outputs": [
    {
     "name": "stdout",
     "output_type": "stream",
     "text": [
      "test_class <class 'type'>\n",
      "__class__ <class 'type'>\n",
      "__delattr__ <class 'wrapper_descriptor'>\n",
      "__dict__ <class 'mappingproxy'>\n",
      "__dir__ <class 'method_descriptor'>\n",
      "__doc__ <class 'NoneType'>\n",
      "__eq__ <class 'wrapper_descriptor'>\n",
      "__format__ <class 'method_descriptor'>\n",
      "__ge__ <class 'wrapper_descriptor'>\n",
      "__getattribute__ <class 'wrapper_descriptor'>\n",
      "__gt__ <class 'wrapper_descriptor'>\n",
      "__hash__ <class 'wrapper_descriptor'>\n",
      "__init__ <class 'function'>\n",
      "__init_subclass__ <class 'builtin_function_or_method'>\n",
      "__le__ <class 'wrapper_descriptor'>\n",
      "__lt__ <class 'wrapper_descriptor'>\n",
      "__module__ <class 'str'>\n",
      "__ne__ <class 'wrapper_descriptor'>\n",
      "__new__ <class 'builtin_function_or_method'>\n",
      "__reduce__ <class 'method_descriptor'>\n",
      "__reduce_ex__ <class 'method_descriptor'>\n",
      "__repr__ <class 'wrapper_descriptor'>\n",
      "__setattr__ <class 'wrapper_descriptor'>\n",
      "__sizeof__ <class 'method_descriptor'>\n",
      "__str__ <class 'wrapper_descriptor'>\n",
      "__subclasshook__ <class 'builtin_function_or_method'>\n",
      "__weakref__ <class 'getset_descriptor'>\n",
      "gagaga <class 'function'>\n"
     ]
    }
   ],
   "source": [
    "for key, data in instant_globals_list.items():\n",
    "    if str(type(eval(key))) ==\"<class 'type'>\":\n",
    "        print(key, type(eval(key)))\n",
    "        for class_key in dir(eval(key)):\n",
    "            print(class_key, type(eval(key+\".\"+class_key)))\n",
    "    "
   ]
  },
  {
   "cell_type": "code",
   "execution_count": 19,
   "metadata": {},
   "outputs": [
    {
     "data": {
      "text/plain": [
       "\"<class 'type'>\""
      ]
     },
     "execution_count": 19,
     "metadata": {},
     "output_type": "execute_result"
    }
   ],
   "source": [
    "str(type(test_class))"
   ]
  },
  {
   "cell_type": "code",
   "execution_count": 12,
   "metadata": {},
   "outputs": [
    {
     "name": "stdout",
     "output_type": "stream",
     "text": [
      "{'self': <__main__.test_class object at 0x000001F3EF199750>}\n"
     ]
    }
   ],
   "source": [
    "a = test_class()"
   ]
  },
  {
   "cell_type": "code",
   "execution_count": 9,
   "metadata": {},
   "outputs": [
    {
     "name": "stdout",
     "output_type": "stream",
     "text": [
      "test\n"
     ]
    }
   ],
   "source": [
    "eval(\"test_class.gagaga\")(1)"
   ]
  },
  {
   "cell_type": "code",
   "execution_count": 2,
   "metadata": {},
   "outputs": [
    {
     "data": {
      "text/plain": [
       "{'__name__': '__main__',\n",
       " '__doc__': 'Automatically created module for IPython interactive environment',\n",
       " '__package__': None,\n",
       " '__loader__': None,\n",
       " '__spec__': None,\n",
       " '__builtin__': <module 'builtins' (built-in)>,\n",
       " '__builtins__': <module 'builtins' (built-in)>,\n",
       " '_ih': ['',\n",
       "  'class test_class:\\n    def __init__(self):\\n        pass\\n    def gagaga(self):\\n        pass\\n    ',\n",
       "  'globals()'],\n",
       " '_oh': {},\n",
       " '_dh': [WindowsPath('c:/Users/1618s/OneDrive/Programs/04_tool/ttk_instant_maker'),\n",
       "  WindowsPath('c:/Users/1618s/OneDrive/Programs/04_tool/ttk_instant_maker')],\n",
       " 'In': ['',\n",
       "  'class test_class:\\n    def __init__(self):\\n        pass\\n    def gagaga(self):\\n        pass\\n    ',\n",
       "  'globals()'],\n",
       " 'Out': {},\n",
       " 'get_ipython': <bound method InteractiveShell.get_ipython of <ipykernel.zmqshell.ZMQInteractiveShell object at 0x000001F3EF204D90>>,\n",
       " 'exit': <IPython.core.autocall.ZMQExitAutocall at 0x1f3ef205960>,\n",
       " 'quit': <IPython.core.autocall.ZMQExitAutocall at 0x1f3ef205960>,\n",
       " 'open': <function io.open(file, mode='r', buffering=-1, encoding=None, errors=None, newline=None, closefd=True, opener=None)>,\n",
       " '_': '',\n",
       " '__': '',\n",
       " '___': '',\n",
       " '__vsc_ipynb_file__': 'c:\\\\Users\\\\1618s\\\\OneDrive\\\\Programs\\\\04_tool\\\\ttk_instant_maker\\\\globals_test.ipynb',\n",
       " '_i': 'class test_class:\\n    def __init__(self):\\n        pass\\n    def gagaga(self):\\n        pass\\n    ',\n",
       " '_ii': '',\n",
       " '_iii': '',\n",
       " '_i1': 'class test_class:\\n    def __init__(self):\\n        pass\\n    def gagaga(self):\\n        pass\\n    ',\n",
       " 'test_class': __main__.test_class,\n",
       " '_i2': 'globals()'}"
      ]
     },
     "execution_count": 2,
     "metadata": {},
     "output_type": "execute_result"
    }
   ],
   "source": [
    "globals()"
   ]
  }
 ],
 "metadata": {
  "kernelspec": {
   "display_name": "env10",
   "language": "python",
   "name": "python3"
  },
  "language_info": {
   "codemirror_mode": {
    "name": "ipython",
    "version": 3
   },
   "file_extension": ".py",
   "mimetype": "text/x-python",
   "name": "python",
   "nbconvert_exporter": "python",
   "pygments_lexer": "ipython3",
   "version": "3.10.13"
  }
 },
 "nbformat": 4,
 "nbformat_minor": 2
}
