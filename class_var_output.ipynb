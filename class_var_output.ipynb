{
 "cells": [
  {
   "cell_type": "code",
   "execution_count": 23,
   "metadata": {},
   "outputs": [],
   "source": [
    "#@ignore\n",
    "import nbtof"
   ]
  },
  {
   "cell_type": "code",
   "execution_count": 24,
   "metadata": {},
   "outputs": [],
   "source": [
    "#@advance\n",
    "import types\n",
    "import tkinter as tk"
   ]
  },
  {
   "cell_type": "code",
   "execution_count": 25,
   "metadata": {},
   "outputs": [],
   "source": [
    "root=tk.Tk()"
   ]
  },
  {
   "cell_type": "code",
   "execution_count": 26,
   "metadata": {},
   "outputs": [],
   "source": [
    "#@ignore\n",
    "class test_class(tk.Frame):\n",
    "    def __init__(self, master=tk.Tk()):\n",
    "        super().__init__(master)\n",
    "        self.master = master\n",
    "        self.master.title('test')\n",
    "        self.test_str = tk.StringVar(value='ababab')\n",
    "        self.test_int = tk.IntVar(value=1)\n",
    "        pass\n",
    "    def gagaga(self):\n",
    "        print(\"test\")\n",
    "        pass\n",
    "    def hahaha(self):\n",
    "        print(\"hahaha\")"
   ]
  },
  {
   "cell_type": "code",
   "execution_count": 27,
   "metadata": {},
   "outputs": [],
   "source": [
    "instant_globals_dict = dict(globals())"
   ]
  },
  {
   "cell_type": "code",
   "execution_count": 28,
   "metadata": {},
   "outputs": [],
   "source": [
    "class class_output:\n",
    "    def __init__(self):\n",
    "        self.func_list = []\n",
    "        self.tkvar_list = []\n",
    "        self.class_name = None"
   ]
  },
  {
   "cell_type": "code",
   "execution_count": 29,
   "metadata": {},
   "outputs": [
    {
     "ename": "AttributeError",
     "evalue": "'NoneType' object has no attribute 'title'",
     "output_type": "error",
     "traceback": [
      "\u001b[1;31m---------------------------------------------------------------------------\u001b[0m",
      "\u001b[1;31mAttributeError\u001b[0m                            Traceback (most recent call last)",
      "Cell \u001b[1;32mIn[29], line 16\u001b[0m\n\u001b[0;32m     13\u001b[0m \u001b[38;5;28;01mexcept\u001b[39;00m:\n\u001b[0;32m     14\u001b[0m     \u001b[38;5;28mprint\u001b[39m(\u001b[38;5;124m\"\u001b[39m\u001b[38;5;124mclass: \u001b[39m\u001b[38;5;124m\"\u001b[39m \u001b[38;5;241m+\u001b[39m instant_class\u001b[38;5;241m.\u001b[39mclass_name \u001b[38;5;241m+\u001b[39m \u001b[38;5;124m\"\u001b[39m\u001b[38;5;124m doesn\u001b[39m\u001b[38;5;124m'\u001b[39m\u001b[38;5;124mt have __init__ !\u001b[39m\u001b[38;5;124m\"\u001b[39m)\n\u001b[1;32m---> 16\u001b[0m \u001b[38;5;28;01mfor\u001b[39;00m c_key, c_value \u001b[38;5;129;01min\u001b[39;00m \u001b[38;5;28;43meval\u001b[39;49m\u001b[43m(\u001b[49m\u001b[43minstant_class\u001b[49m\u001b[38;5;241;43m.\u001b[39;49m\u001b[43mclass_name\u001b[49m\u001b[38;5;241;43m+\u001b[39;49m\u001b[38;5;124;43m\"\u001b[39;49m\u001b[38;5;124;43m()\u001b[39;49m\u001b[38;5;124;43m\"\u001b[39;49m\u001b[43m)\u001b[49m\u001b[38;5;241m.\u001b[39m\u001b[38;5;18m__dict__\u001b[39m\u001b[38;5;241m.\u001b[39mitems():\n\u001b[0;32m     17\u001b[0m     \u001b[38;5;28;01mif\u001b[39;00m \u001b[38;5;28mtype\u001b[39m(c_value) \u001b[38;5;129;01min\u001b[39;00m [tk\u001b[38;5;241m.\u001b[39mStringVar, tk\u001b[38;5;241m.\u001b[39m IntVar, tk\u001b[38;5;241m.\u001b[39mDoubleVar, tk\u001b[38;5;241m.\u001b[39mBooleanVar]:\n\u001b[0;32m     18\u001b[0m         instant_class\u001b[38;5;241m.\u001b[39mtkvar_list\u001b[38;5;241m.\u001b[39mappend(c_key)        \n",
      "File \u001b[1;32m<string>:1\u001b[0m\n",
      "Cell \u001b[1;32mIn[18], line 6\u001b[0m, in \u001b[0;36mtest_class.__init__\u001b[1;34m(self, master)\u001b[0m\n\u001b[0;32m      4\u001b[0m \u001b[38;5;28msuper\u001b[39m()\u001b[38;5;241m.\u001b[39m\u001b[38;5;21m__init__\u001b[39m(master)\n\u001b[0;32m      5\u001b[0m \u001b[38;5;28mself\u001b[39m\u001b[38;5;241m.\u001b[39mmaster \u001b[38;5;241m=\u001b[39m master\n\u001b[1;32m----> 6\u001b[0m \u001b[38;5;28;43mself\u001b[39;49m\u001b[38;5;241;43m.\u001b[39;49m\u001b[43mmaster\u001b[49m\u001b[38;5;241;43m.\u001b[39;49m\u001b[43mtitle\u001b[49m(\u001b[38;5;124m'\u001b[39m\u001b[38;5;124mtest\u001b[39m\u001b[38;5;124m'\u001b[39m)\n\u001b[0;32m      7\u001b[0m \u001b[38;5;28mself\u001b[39m\u001b[38;5;241m.\u001b[39mtest_str \u001b[38;5;241m=\u001b[39m tk\u001b[38;5;241m.\u001b[39mStringVar(value\u001b[38;5;241m=\u001b[39m\u001b[38;5;124m'\u001b[39m\u001b[38;5;124mababab\u001b[39m\u001b[38;5;124m'\u001b[39m)\n\u001b[0;32m      8\u001b[0m \u001b[38;5;28mself\u001b[39m\u001b[38;5;241m.\u001b[39mtest_int \u001b[38;5;241m=\u001b[39m tk\u001b[38;5;241m.\u001b[39mIntVar(value\u001b[38;5;241m=\u001b[39m\u001b[38;5;241m1\u001b[39m)\n",
      "\u001b[1;31mAttributeError\u001b[0m: 'NoneType' object has no attribute 'title'"
     ]
    }
   ],
   "source": [
    "class_output_list = []\n",
    "for key, value in instant_globals_dict.items():\n",
    "    if type(value) == type:\n",
    "        instant_class = class_output()\n",
    "        instant_class.class_name = key\n",
    "\n",
    "        for c_key, c_value in eval(instant_class.class_name).__dict__.items():\n",
    "            if type(eval(instant_class.class_name + \".\" + c_key)) == types.FunctionType:\n",
    "                instant_class.func_list.append(c_key)\n",
    "        \n",
    "        try:\n",
    "            instant_class.func_list.remove(\"__init__\")\n",
    "        except:\n",
    "            print(\"class: \" + instant_class.class_name + \" doesn't have __init__ !\")\n",
    "        \n",
    "        for c_key, c_value in eval(instant_class.class_name+\"()\").__dict__.items():\n",
    "            if type(c_value) in [tk.StringVar, tk. IntVar, tk.DoubleVar, tk.BooleanVar]:\n",
    "                instant_class.tkvar_list.append(c_key)        "
   ]
  },
  {
   "cell_type": "code",
   "execution_count": null,
   "metadata": {},
   "outputs": [
    {
     "name": "stdout",
     "output_type": "stream",
     "text": [
      "test_class\n",
      "['gagaga', 'hahaha']\n",
      "['test_str', 'test_int']\n"
     ]
    }
   ],
   "source": [
    "print(instant_class.class_name)\n",
    "print(instant_class.func_list)\n",
    "print(instant_class.tkvar_list)"
   ]
  },
  {
   "cell_type": "code",
   "execution_count": null,
   "metadata": {},
   "outputs": [
    {
     "name": "stdout",
     "output_type": "stream",
     "text": [
      "Help on function nbtof_base in module nbtof.nbtof_base:\n",
      "\n",
      "nbtof_base(nb_path, func_name=None, func_file_name=None)\n",
      "    This function converts noetbook into a function that performs the same processing as the notebook according to nbtof tags.\n",
      "    \n",
      "    Parameters\n",
      "    ----------\n",
      "    nb_path : str\n",
      "        notebook file path\n",
      "    func_name : str\n",
      "        function's name. If nothing is assigned, func_name gets notebook file name.\n",
      "    funcfile_name : str\n",
      "        the .py file name that has the converted function.\n",
      "    \n",
      "    Returns\n",
      "    -------\n",
      "    tuple\n",
      "        str\n",
      "            output function file path.\n",
      "        str\n",
      "            output function file name.\n",
      "\n"
     ]
    }
   ],
   "source": [
    "#@ignore\n",
    "help(nbtof.nbtof_base)"
   ]
  },
  {
   "cell_type": "code",
   "execution_count": null,
   "metadata": {},
   "outputs": [
    {
     "data": {
      "text/plain": [
       "('class_info.py', 'class_info')"
      ]
     },
     "execution_count": 14,
     "metadata": {},
     "output_type": "execute_result"
    }
   ],
   "source": [
    "##@ignore\n",
    "#nbtof.nbtof_base(\n",
    "#    nb_path=__vsc_ipynb_file__,\n",
    "#    func_name=\"class_info\",\n",
    "#    func_file_name=\"class_info\")"
   ]
  }
 ],
 "metadata": {
  "kernelspec": {
   "display_name": "env10",
   "language": "python",
   "name": "python3"
  },
  "language_info": {
   "codemirror_mode": {
    "name": "ipython",
    "version": 3
   },
   "file_extension": ".py",
   "mimetype": "text/x-python",
   "name": "python",
   "nbconvert_exporter": "python",
   "pygments_lexer": "ipython3",
   "version": "3.10.13"
  }
 },
 "nbformat": 4,
 "nbformat_minor": 2
}
