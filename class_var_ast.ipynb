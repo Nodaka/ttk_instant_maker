{
 "cells": [
  {
   "cell_type": "code",
   "execution_count": 119,
   "metadata": {},
   "outputs": [],
   "source": [
    "#@ignore\n",
    "import nbtof"
   ]
  },
  {
   "cell_type": "code",
   "execution_count": 120,
   "metadata": {},
   "outputs": [],
   "source": [
    "#@advance\n",
    "import ast\n",
    "import copy\n",
    "import openpyxl\n",
    "import os\n",
    "import subprocess\n",
    "import tempfile\n",
    "import sys"
   ]
  },
  {
   "cell_type": "code",
   "execution_count": 121,
   "metadata": {},
   "outputs": [],
   "source": [
    "#@advance\n",
    "class class_output:\n",
    "    def __init__(self):\n",
    "        self.func_list = []\n",
    "        self.tkvar_list = []\n",
    "        self.class_name = None"
   ]
  },
  {
   "cell_type": "code",
   "execution_count": 122,
   "metadata": {},
   "outputs": [],
   "source": [
    "#@param\n",
    "filename = R\"C:\\Users\\1618s\\OneDrive\\Programs\\04_tool\\ttk_instant_maker\\test.ipynb\""
   ]
  },
  {
   "cell_type": "code",
   "execution_count": 123,
   "metadata": {},
   "outputs": [],
   "source": [
    "if os.path.splitext(filename)[1] == \".py\":\n",
    "    with open(filename) as f:\n",
    "        base_p = copy.deepcopy(ast.parse(f.read()))\n",
    "elif os.path.splitext(filename)[1] == \".ipynb\":\n",
    "    with tempfile.TemporaryDirectory() as td:\n",
    "        jupyter_path = sys.base_prefix + '\\\\Scripts\\\\jupyter.exe'\n",
    "        instant_py_file_path = td + '\\\\' + 'instant.py'\n",
    "        nbconvert_cmd = jupyter_path + ' nbconvert ' + filename + ' --to python --output ' + instant_py_file_path\n",
    "\n",
    "        returncode = subprocess.Popen(nbconvert_cmd, shell=True)\n",
    "        _ = returncode.wait()\n",
    "        with open(instant_py_file_path) as f:\n",
    "            base_p = copy.deepcopy(ast.parse(f.read()))\n",
    "else:\n",
    "    print(\"Not python file\")"
   ]
  },
  {
   "cell_type": "code",
   "execution_count": 124,
   "metadata": {},
   "outputs": [],
   "source": [
    "class_output_list = []\n",
    "for node in base_p.body:\n",
    "    if type(node) == ast.ClassDef:\n",
    "        instant_class_output = class_output()\n",
    "        instant_class_output.class_name = node.name\n",
    "        for node_u in node.body:\n",
    "            if type(node_u)==ast.FunctionDef:\n",
    "                if node_u.name == \"__init__\":\n",
    "                    for node_u_u in node_u.body:\n",
    "                        if type(node_u_u) == ast.Assign:\n",
    "                            try:\n",
    "                                if node_u_u.value.func.attr in [\"StringVar\", \"IntVar\", \"DoubleVar\", \"BooleanVar\"]:\n",
    "                                    instant_class_output.tkvar_list.append(node_u_u.targets[0].attr)\n",
    "                            except:\n",
    "                                pass\n",
    "                else:\n",
    "                    instant_class_output.func_list.append(node_u.name)\n",
    "        class_output_list.append(instant_class_output)"
   ]
  },
  {
   "cell_type": "code",
   "execution_count": 125,
   "metadata": {},
   "outputs": [
    {
     "name": "stdout",
     "output_type": "stream",
     "text": [
      "sample_tool\n",
      "['list_up', 'command_test_button', 'test_command']\n",
      "['textvariable_test_label', 'textvariable_test_entry', 'variable_test_checkbutton', 'variable_test_radiobutton', 'listvariable_test_listbox', 'variable_test_scale', 'values_test_combobox', 'textvariable_test_combobox']\n"
     ]
    }
   ],
   "source": [
    "#@ignore\n",
    "print(instant_class_output.class_name)\n",
    "print(instant_class_output.func_list)\n",
    "print(instant_class_output.tkvar_list)"
   ]
  },
  {
   "cell_type": "code",
   "execution_count": 126,
   "metadata": {},
   "outputs": [],
   "source": [
    "excel_path = \"_tk_info.xlsx\"\n",
    "wb = openpyxl.Workbook()\n",
    "sheet_idx = 1\n",
    "wb.create_sheet(index=sheet_idx, title=\"class_name\")\n",
    "sheet = wb.worksheets[sheet_idx]\n",
    "\n",
    "for instant_class_output in class_output_list:\n",
    "    sheet.append([instant_class_output.class_name])\n",
    "sheet_idx = sheet_idx + 1\n",
    "\n",
    "for idx, instant_class_output in enumerate(class_output_list):\n",
    "    \n",
    "    wb.create_sheet(index=2*(idx+1), title=instant_class_output.class_name + \"_f\")\n",
    "    sheet = wb.worksheets[2*(idx+1)]\n",
    "    for func_name in instant_class_output.func_list:\n",
    "        sheet.append([func_name])\n",
    "    \n",
    "    wb.create_sheet(index=2*(idx+1) + 1, title=instant_class_output.class_name + \"_v\")\n",
    "    sheet = wb.worksheets[2*(idx+1) + 1]\n",
    "    for tkvar_name in instant_class_output.tkvar_list:\n",
    "        sheet.append([tkvar_name])\n",
    "\n",
    "wb.save(excel_path)\n",
    "wb.close()"
   ]
  },
  {
   "cell_type": "code",
   "execution_count": 127,
   "metadata": {},
   "outputs": [
    {
     "data": {
      "text/plain": [
       "'generate_tk_info.py'"
      ]
     },
     "execution_count": 127,
     "metadata": {},
     "output_type": "execute_result"
    }
   ],
   "source": [
    "#@ignore\n",
    "nbtof.nbtof_generate(\n",
    "    notebook_file=__vsc_ipynb_file__,\n",
    "    output_py_file=\"generate_tk_info.py\"\n",
    ")"
   ]
  }
 ],
 "metadata": {
  "kernelspec": {
   "display_name": "env10",
   "language": "python",
   "name": "python3"
  },
  "language_info": {
   "codemirror_mode": {
    "name": "ipython",
    "version": 3
   },
   "file_extension": ".py",
   "mimetype": "text/x-python",
   "name": "python",
   "nbconvert_exporter": "python",
   "pygments_lexer": "ipython3",
   "version": "3.10.13"
  }
 },
 "nbformat": 4,
 "nbformat_minor": 2
}
